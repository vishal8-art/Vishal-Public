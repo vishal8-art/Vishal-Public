{
 "cells": [
  {
   "cell_type": "markdown",
   "id": "bb1cbded-e669-44b4-9a62-48ca6caaa107",
   "metadata": {},
   "source": [
    "# Data Science Tools and Ecosystem"
   ]
  },
  {
   "cell_type": "markdown",
   "id": "9c46bd21-cdb5-482e-8618-ca6a1339f171",
   "metadata": {},
   "source": [
    "In this notebook, Data Science Tools and Ecosystem are summarized."
   ]
  },
  {
   "cell_type": "markdown",
   "id": "457f8e37-868c-47c8-89ab-2b8e1fab35f6",
   "metadata": {},
   "source": [
    "**Objectives:**"
   ]
  },
  {
   "cell_type": "markdown",
   "id": "05bb6db9-2d3c-4f6c-9119-fbdead153571",
   "metadata": {},
   "source": [
    "List popular languages for Data Science\n",
    "* List popular languages for Data Science\n",
    "* List commenly used libraries in Data Science\n",
    "* Evaluate arithmetic expressions in Python\n",
    "* Create a single column table using pythin markdown"
   ]
  },
  {
   "cell_type": "markdown",
   "id": "077eeeba-740c-4c96-905e-2c3c8f26fdc6",
   "metadata": {},
   "source": [
    "Some of the popular languages that Data Scientists use are\n",
    "1. Python\n",
    "2. R\n",
    "3. SQL\n",
    "4. Julia"
   ]
  },
  {
   "cell_type": "markdown",
   "id": "3cc340cd-e095-4e51-81e0-a4abe179ef29",
   "metadata": {},
   "source": [
    "Some of the commonly used libraries used by Data Scientists include:"
   ]
  },
  {
   "cell_type": "markdown",
   "id": "aff938df-30c8-4ad7-b640-ad1179dee8f9",
   "metadata": {},
   "source": [
    "    1.NumPy\n",
    "    2.Pandas\n",
    "    3.Scikit-learn"
   ]
  },
  {
   "cell_type": "markdown",
   "id": "1e0bd272-7a51-4144-a2ce-a74310dc2cc0",
   "metadata": {},
   "source": [
    "|Data Science Tools|\n",
    "|------------------|\n",
    "|Jupyter Notebook|\n",
    "|RStudio|\n",
    "|Apache Zeppelin|"
   ]
  },
  {
   "cell_type": "markdown",
   "id": "733645cf-c3a4-46b8-a54d-b042e38f1c19",
   "metadata": {},
   "source": [
    "### Below are a few examples of evaluating arithmetic expressions in Python.\n"
   ]
  },
  {
   "cell_type": "code",
   "execution_count": 57,
   "id": "7fc01722-f6ae-42cc-a374-3d20d9e7c262",
   "metadata": {},
   "outputs": [
    {
     "data": {
      "text/plain": [
       "17"
      ]
     },
     "execution_count": 57,
     "metadata": {},
     "output_type": "execute_result"
    }
   ],
   "source": [
    "# This a simple arithmetic expression to mutiply then add integers\n",
    "x=(3*4)+5\n",
    "x"
   ]
  },
  {
   "cell_type": "code",
   "execution_count": 69,
   "id": "720b8b5f-0103-4d89-8789-c19db4727737",
   "metadata": {},
   "outputs": [
    {
     "name": "stdout",
     "output_type": "stream",
     "text": [
      "3.3333333333333335\n",
      "3.33\n"
     ]
    }
   ],
   "source": [
    "# This will convert 200 minutes to hours by diving by 60\n",
    "x=200\n",
    "y=60\n",
    "z=x/y\n",
    "print (z)\n",
    "g= round(z,2)\n",
    "print(g)"
   ]
  },
  {
   "cell_type": "markdown",
   "id": "13815ee4-70b0-4f9d-98be-26f33fd964cb",
   "metadata": {},
   "source": [
    "## Author\n",
    "Vishal C R"
   ]
  },
  {
   "cell_type": "code",
   "execution_count": null,
   "id": "3713f01a-85b0-4b1d-b19c-8073e202c2ed",
   "metadata": {},
   "outputs": [],
   "source": []
  }
 ],
 "metadata": {
  "kernelspec": {
   "display_name": "Python [conda env:base] *",
   "language": "python",
   "name": "conda-base-py"
  },
  "language_info": {
   "codemirror_mode": {
    "name": "ipython",
    "version": 3
   },
   "file_extension": ".py",
   "mimetype": "text/x-python",
   "name": "python",
   "nbconvert_exporter": "python",
   "pygments_lexer": "ipython3",
   "version": "3.12.7"
  }
 },
 "nbformat": 4,
 "nbformat_minor": 5
}
